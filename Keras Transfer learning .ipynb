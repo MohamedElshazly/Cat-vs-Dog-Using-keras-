{
 "cells": [
  {
   "cell_type": "code",
   "execution_count": 1,
   "metadata": {},
   "outputs": [],
   "source": [
    "# Now we'll do the same task as before but now we're gonna use a pre trained model called VGG16 that was trained on the \n",
    "# dataset ImageNet \n",
    "# Basically we're gonna remove the top model(fully connected layer)-just use the convulotion layers -and retrain the model just on our data one time \n",
    "# then we're gonna save those learned features (called bottleneck features) \n",
    "# then we're gonna train custome fully connected layers on top of our previously stored features !! \n",
    "\n",
    "## steps !! \n",
    "# 1. of course we first import our libraries and specify our constants !! \n",
    "\n",
    "# 2. then we create our image generator to just rescale/ normalize the data \n",
    "\n",
    "# 3. then we import the pretrained model \n",
    "\n",
    "# 4. And now we get the data ready for the model but just the data not the labels because we're gonna disable \n",
    "# the shuffle option and now we'd have 1000 cat then 1000 dog\n",
    "\n",
    "# 5. now we prepare the train data and labels and val data and labels then we construct our model architecture \n"
   ]
  },
  {
   "cell_type": "code",
   "execution_count": 2,
   "metadata": {},
   "outputs": [
    {
     "name": "stderr",
     "output_type": "stream",
     "text": [
      "Using TensorFlow backend.\n"
     ]
    }
   ],
   "source": [
    "import numpy as np\n",
    "from keras.preprocessing.image import ImageDataGenerator\n",
    "from keras.models import Sequential\n",
    "from keras.layers import Dropout, Flatten, Dense, Activation\n",
    "from keras import applications\n",
    "import os "
   ]
  },
  {
   "cell_type": "code",
   "execution_count": 3,
   "metadata": {},
   "outputs": [],
   "source": [
    "cwd = os.getcwd()\n",
    "Height, Width = 150, 150 \n",
    "epochs = 50 \n",
    "batch_size = 16 \n",
    "m1 = 2000\n",
    "m2 = 800 \n",
    "train_dir = os.path.join(cwd, 'kerasClassifier/train')\n",
    "val_dir = os.path.join(cwd, 'kerasClassifier/validation')\n",
    "pretrained_weights_path = os.path.join(cwd, 'vgg16_weights.h5') \n",
    "top_model_weights_path = 'bottleneck_fc_model.h5'"
   ]
  },
  {
   "cell_type": "code",
   "execution_count": 4,
   "metadata": {},
   "outputs": [],
   "source": [
    "def save_bottelneck_features():\n",
    "    \n",
    "    datagen = ImageDataGenerator(rescale = 1. / 255)\n",
    "    \n",
    "    model = applications.VGG16(include_top=False, weights='imagenet')\n",
    "    \n",
    "    generator = datagen.flow_from_directory(train_dir, \n",
    "                                                  target_size = (Height, Width),\n",
    "                                                  batch_size = batch_size, \n",
    "                                                  class_mode = None,\n",
    "                                                  shuffle = False)\n",
    "    bottleneck_features_train = model.predict_generator(generator, m1 // batch_size)\n",
    "    np.save(open('bottleneck_features_train.npy', 'wb'), bottleneck_features_train)\n",
    "    \n",
    "    \n",
    "    generator = datagen.flow_from_directory(val_dir,\n",
    "                                                target_size = (Height, Width),\n",
    "                                                batch_size = batch_size, \n",
    "                                                class_mode = None,\n",
    "                                                shuffle = False)\n",
    "    bottleneck_features_val = model.predict_generator(generator, m2 // batch_size)\n",
    "    np.save(open('bottleneck_features_val.npy', 'wb'), bottleneck_features_val)\n",
    "    \n",
    "    "
   ]
  },
  {
   "cell_type": "code",
   "execution_count": 5,
   "metadata": {},
   "outputs": [],
   "source": [
    "def train_top_model():\n",
    "    \n",
    "    train_data = np.load(open('bottleneck_features_train.npy', 'rb'))\n",
    "    train_labels = np.array( [0]*(m1//2) + [1]*(m1//2) ) \n",
    "    \n",
    "    val_data = np.load(open('bottleneck_features_val.npy', 'rb'))\n",
    "    val_labels = np.array( [0]*(m2//2) + [1]*(m2//2) ) \n",
    "    \n",
    "    model = Sequential()\n",
    "    model.add(Flatten(input_shape = train_data.shape[1:])) #train_data[1:] to omit the number of examples fromt the shape \n",
    "    model.add(Dense(256))\n",
    "    model.add(Activation('relu'))\n",
    "    model.add(Dropout(0.5)) \n",
    "    model.add(Dense(1))\n",
    "    model.add(Activation('sigmoid'))\n",
    "    \n",
    "    model.compile(optimizer = 'rmsprop',\n",
    "                  loss = 'binary_crossentropy',\n",
    "                  metrics = ['accuracy'])\n",
    "    \n",
    "    model.fit(train_data,train_labels, \n",
    "              batch_size = batch_size,\n",
    "              epochs = epochs,\n",
    "              validation_data = (val_data, val_labels))\n",
    "    \n",
    "    model.save_weights(top_model_weights_path)\n",
    "\n",
    "\n",
    "    \n",
    "    \n",
    "    "
   ]
  },
  {
   "cell_type": "code",
   "execution_count": 6,
   "metadata": {},
   "outputs": [
    {
     "name": "stdout",
     "output_type": "stream",
     "text": [
      "Found 2000 images belonging to 2 classes.\n",
      "Found 800 images belonging to 2 classes.\n"
     ]
    }
   ],
   "source": [
    "save_bottelneck_features()\n",
    "\n"
   ]
  },
  {
   "cell_type": "code",
   "execution_count": null,
   "metadata": {},
   "outputs": [
    {
     "name": "stdout",
     "output_type": "stream",
     "text": [
      "Train on 2000 samples, validate on 800 samples\n",
      "Epoch 1/50\n",
      "2000/2000 [==============================] - 9s 4ms/step - loss: 0.8117 - acc: 0.7520 - val_loss: 0.2924 - val_acc: 0.8762\n",
      "Epoch 2/50\n",
      "2000/2000 [==============================] - 7s 3ms/step - loss: 0.3431 - acc: 0.8535 - val_loss: 0.2892 - val_acc: 0.8788\n",
      "Epoch 3/50\n",
      "2000/2000 [==============================] - 7s 4ms/step - loss: 0.2856 - acc: 0.8905 - val_loss: 0.2473 - val_acc: 0.9075\n",
      "Epoch 4/50\n",
      "2000/2000 [==============================] - 7s 4ms/step - loss: 0.2472 - acc: 0.9065 - val_loss: 0.2874 - val_acc: 0.9025\n",
      "Epoch 5/50\n",
      "2000/2000 [==============================] - 7s 3ms/step - loss: 0.2399 - acc: 0.9130 - val_loss: 0.2868 - val_acc: 0.8825\n",
      "Epoch 6/50\n",
      "2000/2000 [==============================] - 6s 3ms/step - loss: 0.1959 - acc: 0.9260 - val_loss: 0.4226 - val_acc: 0.8562\n",
      "Epoch 7/50\n",
      "2000/2000 [==============================] - 7s 3ms/step - loss: 0.1742 - acc: 0.9355 - val_loss: 0.3948 - val_acc: 0.8725\n",
      "Epoch 8/50\n",
      "1504/2000 [=====================>........] - ETA: 1s - loss: 0.1490 - acc: 0.9448"
     ]
    }
   ],
   "source": [
    "train_top_model()"
   ]
  },
  {
   "cell_type": "code",
   "execution_count": null,
   "metadata": {},
   "outputs": [],
   "source": []
  },
  {
   "cell_type": "code",
   "execution_count": null,
   "metadata": {},
   "outputs": [],
   "source": []
  },
  {
   "cell_type": "code",
   "execution_count": null,
   "metadata": {},
   "outputs": [],
   "source": []
  }
 ],
 "metadata": {
  "kernelspec": {
   "display_name": "Python 3",
   "language": "python",
   "name": "python3"
  },
  "language_info": {
   "codemirror_mode": {
    "name": "ipython",
    "version": 3
   },
   "file_extension": ".py",
   "mimetype": "text/x-python",
   "name": "python",
   "nbconvert_exporter": "python",
   "pygments_lexer": "ipython3",
   "version": "3.6.5"
  }
 },
 "nbformat": 4,
 "nbformat_minor": 2
}
